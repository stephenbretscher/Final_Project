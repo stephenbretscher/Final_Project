{
 "cells": [
  {
   "cell_type": "markdown",
   "metadata": {},
   "source": [
    "#### Initial Set Up"
   ]
  },
  {
   "cell_type": "code",
   "execution_count": 1,
   "metadata": {},
   "outputs": [],
   "source": [
    "# Import libraries\n",
    "import os\n",
    "import glob\n",
    "import pandas as pd\n",
    "\n",
    "# Remove dataFrame display size restrictions\n",
    "#pd.set_option(\"display.max_rows\", None, \"display.max_columns\", None)\n",
    "\n",
    "# Create path\n",
    "os.chdir(\"./Resources/real_estate\")"
   ]
  },
  {
   "cell_type": "code",
   "execution_count": 2,
   "metadata": {},
   "outputs": [],
   "source": [
    "#  Retrieve all csv files from folder \n",
    "extension = 'csv'\n",
    "all_filenames = [i for i in glob.glob('*.{}'.format(extension))]\n",
    "\n",
    "# Combine all files\n",
    "df = pd.concat([pd.read_csv(f) for f in all_filenames])"
   ]
  },
  {
   "cell_type": "code",
   "execution_count": 3,
   "metadata": {},
   "outputs": [
    {
     "name": "stdout",
     "output_type": "stream",
     "text": [
      " Total Sales (rows) in The New York City Real Estate dataset Prior to Merge/Clean: 31787\n",
      " Total fields (columns) in The New York City Real Estate dataset Prior to Merge/Clean: 45\n"
     ]
    }
   ],
   "source": [
    "# Display original dimensions of dataframe pre-clean\n",
    "orig_rows = len(df)\n",
    "orig_columns = len(df. columns) \n",
    "print(f' Total Sales (rows) in The New York City Real Estate dataset Prior to Merge/Clean: {orig_rows}') \n",
    "print(f' Total fields (columns) in The New York City Real Estate dataset Prior to Merge/Clean: {orig_columns}') \n"
   ]
  },
  {
   "cell_type": "markdown",
   "metadata": {},
   "source": [
    "#### Clean Up"
   ]
  },
  {
   "cell_type": "code",
   "execution_count": 4,
   "metadata": {},
   "outputs": [
    {
     "data": {
      "text/plain": [
       "Index(['Address', 'Building Name', 'Neighborhood', 'City',\n",
       "       'Price (Last Known)', 'PPSF', 'R', 'Bd', 'Total Ba', 'MLS Ba',\n",
       "       'Full Ba', 'HBa', 'Sq Ft', 'Monthly Fees', 'Monthly Fees & Taxes',\n",
       "       'Taxes Per Mo.', 'MLS Property Type', 'MLS Property Subtype',\n",
       "       'Compass Property Type', 'Status', 'DOM', 'Updated Date', 'Listed Date',\n",
       "       'Listed Price', 'Last Asking', 'Contract Date', 'Sold Price',\n",
       "       'Closed Price Verification', 'Sold Date', 'Open House',\n",
       "       'Open House Type', 'ZIP', 'Latitude', 'Longitude', 'Building Size',\n",
       "       'Lot Size', 'Outdoor Space', 'Year Built', 'Service Level',\n",
       "       'Building Units', 'Notes', 'Unnamed: 41', 'Unnamed: 42', 'Unnamed: 32',\n",
       "       'Unnamed: 33'],\n",
       "      dtype='object')"
      ]
     },
     "execution_count": 4,
     "metadata": {},
     "output_type": "execute_result"
    }
   ],
   "source": [
    "# Display columns before transformation process\n",
    "df.columns"
   ]
  },
  {
   "cell_type": "code",
   "execution_count": 5,
   "metadata": {},
   "outputs": [
    {
     "name": "stdout",
     "output_type": "stream",
     "text": [
      " Total fields (columns) in The New York City Real Estate dataset after dropping columns: 15\n"
     ]
    }
   ],
   "source": [
    "# Drop irrelevant columns\n",
    "df = df.loc[:, ['Address', 'Neighborhood', 'City',\n",
    "       'Bd','MLS Ba','Compass Property Type','DOM', 'Listed Date',\n",
    "       'Listed Price', 'Sold Price','Sold Date', 'ZIP', 'Latitude', 'Longitude', 'Year Built']]  \n",
    "\n",
    "clean_columns01 = len(df.columns)\n",
    "\n",
    "print(f' Total fields (columns) in The New York City Real Estate dataset after dropping columns: {clean_columns01}')"
   ]
  },
  {
   "cell_type": "code",
   "execution_count": 6,
   "metadata": {},
   "outputs": [
    {
     "data": {
      "text/html": [
       "<div>\n",
       "<style scoped>\n",
       "    .dataframe tbody tr th:only-of-type {\n",
       "        vertical-align: middle;\n",
       "    }\n",
       "\n",
       "    .dataframe tbody tr th {\n",
       "        vertical-align: top;\n",
       "    }\n",
       "\n",
       "    .dataframe thead th {\n",
       "        text-align: right;\n",
       "    }\n",
       "</style>\n",
       "<table border=\"1\" class=\"dataframe\">\n",
       "  <thead>\n",
       "    <tr style=\"text-align: right;\">\n",
       "      <th></th>\n",
       "      <th>address</th>\n",
       "      <th>neighborhood</th>\n",
       "      <th>borough</th>\n",
       "      <th>bed</th>\n",
       "      <th>bath</th>\n",
       "      <th>property_type</th>\n",
       "      <th>days_on_market</th>\n",
       "      <th>listed_date</th>\n",
       "      <th>listed_price</th>\n",
       "      <th>sold_price</th>\n",
       "      <th>sold_date</th>\n",
       "      <th>zipcode</th>\n",
       "      <th>lat</th>\n",
       "      <th>long</th>\n",
       "      <th>year_built</th>\n",
       "    </tr>\n",
       "    <tr>\n",
       "      <th>index</th>\n",
       "      <th></th>\n",
       "      <th></th>\n",
       "      <th></th>\n",
       "      <th></th>\n",
       "      <th></th>\n",
       "      <th></th>\n",
       "      <th></th>\n",
       "      <th></th>\n",
       "      <th></th>\n",
       "      <th></th>\n",
       "      <th></th>\n",
       "      <th></th>\n",
       "      <th></th>\n",
       "      <th></th>\n",
       "      <th></th>\n",
       "    </tr>\n",
       "  </thead>\n",
       "  <tbody>\n",
       "    <tr>\n",
       "      <th>0</th>\n",
       "      <td>9 Joline Ln</td>\n",
       "      <td>Tottenville</td>\n",
       "      <td>Staten Island</td>\n",
       "      <td>4</td>\n",
       "      <td>3.00</td>\n",
       "      <td>Single Family</td>\n",
       "      <td>111</td>\n",
       "      <td>08/27/2020</td>\n",
       "      <td>$1,099,000</td>\n",
       "      <td>$1,040,000</td>\n",
       "      <td>02/12/2021</td>\n",
       "      <td>10307.0</td>\n",
       "      <td>40.5071</td>\n",
       "      <td>-74.2443</td>\n",
       "      <td>2006.0</td>\n",
       "    </tr>\n",
       "    <tr>\n",
       "      <th>1</th>\n",
       "      <td>22 Buffington Ave</td>\n",
       "      <td>Annadale</td>\n",
       "      <td>Staten Island</td>\n",
       "      <td>4</td>\n",
       "      <td>3.50</td>\n",
       "      <td>Multi Family</td>\n",
       "      <td>40</td>\n",
       "      <td>09/24/2020</td>\n",
       "      <td>$969,000</td>\n",
       "      <td>$940,000</td>\n",
       "      <td>02/12/2021</td>\n",
       "      <td>10312.0</td>\n",
       "      <td>40.5555</td>\n",
       "      <td>-74.1827</td>\n",
       "      <td>1986.0</td>\n",
       "    </tr>\n",
       "    <tr>\n",
       "      <th>2</th>\n",
       "      <td>46 Purdy Pl</td>\n",
       "      <td>Prince's Bay</td>\n",
       "      <td>Staten Island</td>\n",
       "      <td>3</td>\n",
       "      <td>2.25</td>\n",
       "      <td>Single Family</td>\n",
       "      <td>374</td>\n",
       "      <td>12/03/2019</td>\n",
       "      <td>$859,900</td>\n",
       "      <td>$750,000</td>\n",
       "      <td>02/12/2021</td>\n",
       "      <td>10309.0</td>\n",
       "      <td>40.5266</td>\n",
       "      <td>-74.2238</td>\n",
       "      <td>NaN</td>\n",
       "    </tr>\n",
       "    <tr>\n",
       "      <th>3</th>\n",
       "      <td>419 Winchester Ave</td>\n",
       "      <td>Eltingville</td>\n",
       "      <td>Staten Island</td>\n",
       "      <td>6</td>\n",
       "      <td>2.75</td>\n",
       "      <td>Multi Family</td>\n",
       "      <td>65</td>\n",
       "      <td>09/16/2020</td>\n",
       "      <td>$869,000</td>\n",
       "      <td>$870,000</td>\n",
       "      <td>02/12/2021</td>\n",
       "      <td>10312.0</td>\n",
       "      <td>40.5555</td>\n",
       "      <td>-74.1827</td>\n",
       "      <td>1960.0</td>\n",
       "    </tr>\n",
       "    <tr>\n",
       "      <th>4</th>\n",
       "      <td>163 Driggs St</td>\n",
       "      <td>Great Kills</td>\n",
       "      <td>Staten Island</td>\n",
       "      <td>3</td>\n",
       "      <td>1.50</td>\n",
       "      <td>Single Family</td>\n",
       "      <td>14</td>\n",
       "      <td>10/13/2020</td>\n",
       "      <td>$529,900</td>\n",
       "      <td>$529,900</td>\n",
       "      <td>02/12/2021</td>\n",
       "      <td>10308.0</td>\n",
       "      <td>40.5535</td>\n",
       "      <td>-74.1504</td>\n",
       "      <td>1930.0</td>\n",
       "    </tr>\n",
       "    <tr>\n",
       "      <th>...</th>\n",
       "      <td>...</td>\n",
       "      <td>...</td>\n",
       "      <td>...</td>\n",
       "      <td>...</td>\n",
       "      <td>...</td>\n",
       "      <td>...</td>\n",
       "      <td>...</td>\n",
       "      <td>...</td>\n",
       "      <td>...</td>\n",
       "      <td>...</td>\n",
       "      <td>...</td>\n",
       "      <td>...</td>\n",
       "      <td>...</td>\n",
       "      <td>...</td>\n",
       "      <td>...</td>\n",
       "    </tr>\n",
       "    <tr>\n",
       "      <th>11086</th>\n",
       "      <td>50 Brighton 1st Rd, Unit 8B</td>\n",
       "      <td>Brighton Beach</td>\n",
       "      <td>Brooklyn</td>\n",
       "      <td>NaN</td>\n",
       "      <td>NaN</td>\n",
       "      <td>Co-op</td>\n",
       "      <td>NaN</td>\n",
       "      <td>NaN</td>\n",
       "      <td>NaN</td>\n",
       "      <td>$435,000</td>\n",
       "      <td>12/15/2020</td>\n",
       "      <td>11235.0</td>\n",
       "      <td>40.5860</td>\n",
       "      <td>-73.9419</td>\n",
       "      <td>NaN</td>\n",
       "    </tr>\n",
       "    <tr>\n",
       "      <th>11087</th>\n",
       "      <td>2831 Brighton 4th St</td>\n",
       "      <td>Brighton Beach</td>\n",
       "      <td>Brooklyn</td>\n",
       "      <td>8</td>\n",
       "      <td>NaN</td>\n",
       "      <td>Multi Family/Townhouse</td>\n",
       "      <td>NaN</td>\n",
       "      <td>NaN</td>\n",
       "      <td>NaN</td>\n",
       "      <td>$800,000</td>\n",
       "      <td>12/22/2020</td>\n",
       "      <td>11235.0</td>\n",
       "      <td>40.5860</td>\n",
       "      <td>-73.9419</td>\n",
       "      <td>1940.0</td>\n",
       "    </tr>\n",
       "    <tr>\n",
       "      <th>11088</th>\n",
       "      <td>2743 Brighton 7th St.</td>\n",
       "      <td>Brighton Beach</td>\n",
       "      <td>Brooklyn</td>\n",
       "      <td>8</td>\n",
       "      <td>4.00</td>\n",
       "      <td>Multi Family/Townhouse</td>\n",
       "      <td>NaN</td>\n",
       "      <td>NaN</td>\n",
       "      <td>NaN</td>\n",
       "      <td>$940,000</td>\n",
       "      <td>12/09/2020</td>\n",
       "      <td>11235.0</td>\n",
       "      <td>40.5860</td>\n",
       "      <td>-73.9419</td>\n",
       "      <td>1930.0</td>\n",
       "    </tr>\n",
       "    <tr>\n",
       "      <th>11089</th>\n",
       "      <td>105 Oceana Dr E, Unit 5H</td>\n",
       "      <td>Brighton Beach</td>\n",
       "      <td>Brooklyn</td>\n",
       "      <td>2</td>\n",
       "      <td>2.00</td>\n",
       "      <td>Condo</td>\n",
       "      <td>32</td>\n",
       "      <td>09/30/2020</td>\n",
       "      <td>$975,000</td>\n",
       "      <td>$850,000</td>\n",
       "      <td>12/14/2020</td>\n",
       "      <td>11235.0</td>\n",
       "      <td>40.5860</td>\n",
       "      <td>-73.9419</td>\n",
       "      <td>2002.0</td>\n",
       "    </tr>\n",
       "    <tr>\n",
       "      <th>11090</th>\n",
       "      <td>75 Oceana Dr E, Unit 4G</td>\n",
       "      <td>Brighton Beach</td>\n",
       "      <td>Brooklyn</td>\n",
       "      <td>NaN</td>\n",
       "      <td>NaN</td>\n",
       "      <td>Condo</td>\n",
       "      <td>NaN</td>\n",
       "      <td>NaN</td>\n",
       "      <td>NaN</td>\n",
       "      <td>$795,000</td>\n",
       "      <td>12/23/2020</td>\n",
       "      <td>11235.0</td>\n",
       "      <td>40.5860</td>\n",
       "      <td>-73.9419</td>\n",
       "      <td>2002.0</td>\n",
       "    </tr>\n",
       "  </tbody>\n",
       "</table>\n",
       "<p>31787 rows × 15 columns</p>\n",
       "</div>"
      ],
      "text/plain": [
       "                           address    neighborhood        borough  bed  bath  \\\n",
       "index                                                                          \n",
       "0                      9 Joline Ln     Tottenville  Staten Island    4  3.00   \n",
       "1                22 Buffington Ave        Annadale  Staten Island    4  3.50   \n",
       "2                      46 Purdy Pl    Prince's Bay  Staten Island    3  2.25   \n",
       "3               419 Winchester Ave     Eltingville  Staten Island    6  2.75   \n",
       "4                    163 Driggs St     Great Kills  Staten Island    3  1.50   \n",
       "...                            ...             ...            ...  ...   ...   \n",
       "11086  50 Brighton 1st Rd, Unit 8B  Brighton Beach       Brooklyn  NaN   NaN   \n",
       "11087         2831 Brighton 4th St  Brighton Beach       Brooklyn    8   NaN   \n",
       "11088        2743 Brighton 7th St.  Brighton Beach       Brooklyn    8  4.00   \n",
       "11089     105 Oceana Dr E, Unit 5H  Brighton Beach       Brooklyn    2  2.00   \n",
       "11090      75 Oceana Dr E, Unit 4G  Brighton Beach       Brooklyn  NaN   NaN   \n",
       "\n",
       "                property_type days_on_market listed_date listed_price  \\\n",
       "index                                                                   \n",
       "0               Single Family            111  08/27/2020   $1,099,000   \n",
       "1                Multi Family             40  09/24/2020     $969,000   \n",
       "2               Single Family            374  12/03/2019     $859,900   \n",
       "3                Multi Family             65  09/16/2020     $869,000   \n",
       "4               Single Family             14  10/13/2020     $529,900   \n",
       "...                       ...            ...         ...          ...   \n",
       "11086                   Co-op            NaN         NaN          NaN   \n",
       "11087  Multi Family/Townhouse            NaN         NaN          NaN   \n",
       "11088  Multi Family/Townhouse            NaN         NaN          NaN   \n",
       "11089                   Condo             32  09/30/2020     $975,000   \n",
       "11090                   Condo            NaN         NaN          NaN   \n",
       "\n",
       "       sold_price   sold_date  zipcode      lat     long  year_built  \n",
       "index                                                                 \n",
       "0      $1,040,000  02/12/2021  10307.0  40.5071 -74.2443      2006.0  \n",
       "1        $940,000  02/12/2021  10312.0  40.5555 -74.1827      1986.0  \n",
       "2        $750,000  02/12/2021  10309.0  40.5266 -74.2238         NaN  \n",
       "3        $870,000  02/12/2021  10312.0  40.5555 -74.1827      1960.0  \n",
       "4        $529,900  02/12/2021  10308.0  40.5535 -74.1504      1930.0  \n",
       "...           ...         ...      ...      ...      ...         ...  \n",
       "11086    $435,000  12/15/2020  11235.0  40.5860 -73.9419         NaN  \n",
       "11087    $800,000  12/22/2020  11235.0  40.5860 -73.9419      1940.0  \n",
       "11088    $940,000  12/09/2020  11235.0  40.5860 -73.9419      1930.0  \n",
       "11089    $850,000  12/14/2020  11235.0  40.5860 -73.9419      2002.0  \n",
       "11090    $795,000  12/23/2020  11235.0  40.5860 -73.9419      2002.0  \n",
       "\n",
       "[31787 rows x 15 columns]"
      ]
     },
     "execution_count": 6,
     "metadata": {},
     "output_type": "execute_result"
    }
   ],
   "source": [
    "# Rename columns\n",
    "df.rename(columns={'Address': 'address', 'Building Name': 'building_name', 'Neighborhood': 'neighborhood', \n",
    "                              'City': 'borough', 'Bd': 'bed', 'MLS Ba': 'bath',\n",
    "                              'Compass Property Type': 'property_type', \n",
    "                              'DOM': 'days_on_market', 'Listed Date': 'listed_date',\n",
    "                              'Listed Price': 'listed_price', 'Sold Price': 'sold_price', 'Sold Date': 'sold_date',\n",
    "                              'Latitude': 'lat', 'Longitude': 'long',\n",
    "                              'ZIP': 'zipcode','Year Built': 'year_built'}, inplace=True)\n",
    "\n",
    "df.index.name = 'index'"
   ]
  },
  {
   "cell_type": "code",
   "execution_count": 7,
   "metadata": {},
   "outputs": [
    {
     "name": "stdout",
     "output_type": "stream",
     "text": [
      "After removing all rows with a NaN value under zipcode column, there were 22722 rows (sold listings) remaining\n"
     ]
    }
   ],
   "source": [
    "# Drop all rows where zipcode equals NaN\n",
    "df = df.dropna(subset=['zipcode'])\n",
    "\n",
    "rows_after_zipcode = len(df)\n",
    "print(f'After removing all rows with a NaN value under zipcode column, there were {rows_after_zipcode} rows (sold listings) remaining')"
   ]
  },
  {
   "cell_type": "code",
   "execution_count": 8,
   "metadata": {},
   "outputs": [
    {
     "name": "stdout",
     "output_type": "stream",
     "text": [
      "After removing all rows with a NaN value under sold price column, there were 22158 rows (sold listings) remaining\n"
     ]
    }
   ],
   "source": [
    "# Drop all rows where sold price equals NaN\n",
    "df = df.dropna(subset=['sold_price'])\n",
    "\n",
    "rows_after_soldprice = len(df)\n",
    "print(f'After removing all rows with a NaN value under sold price column, there were {rows_after_soldprice} rows (sold listings) remaining')"
   ]
  },
  {
   "cell_type": "code",
   "execution_count": 9,
   "metadata": {},
   "outputs": [],
   "source": [
    "# In bed column, replace 'Studio' + Alcove with '0'\n",
    "df['bed'] = df['bed'].str.replace('Studio', '0')\n",
    "df['bed'] = df['bed'].str.replace('Alcove', '0')"
   ]
  },
  {
   "cell_type": "code",
   "execution_count": 10,
   "metadata": {},
   "outputs": [],
   "source": [
    "# Change all string column values to lower case\n",
    "df = df.applymap(lambda s:s.lower() if type(s) == str else s)"
   ]
  },
  {
   "cell_type": "code",
   "execution_count": 11,
   "metadata": {},
   "outputs": [],
   "source": [
    "# Remove decimal and zero from string \n",
    "df['zipcode'] = df['zipcode'].astype(str).replace('\\.0', '', regex=True)\n",
    "\n",
    "df['year_built'] = df['year_built'].astype(str).replace('\\.0', '', regex=True)"
   ]
  },
  {
   "cell_type": "code",
   "execution_count": 12,
   "metadata": {},
   "outputs": [
    {
     "data": {
      "text/plain": [
       "address            object\n",
       "neighborhood       object\n",
       "borough            object\n",
       "bed                object\n",
       "bath              float64\n",
       "property_type      object\n",
       "days_on_market     object\n",
       "listed_date        object\n",
       "listed_price       object\n",
       "sold_price         object\n",
       "sold_date          object\n",
       "zipcode            object\n",
       "lat               float64\n",
       "long              float64\n",
       "year_built         object\n",
       "dtype: object"
      ]
     },
     "execution_count": 12,
     "metadata": {},
     "output_type": "execute_result"
    }
   ],
   "source": [
    "# Check Datatypes\n",
    "df.dtypes"
   ]
  },
  {
   "cell_type": "code",
   "execution_count": 13,
   "metadata": {},
   "outputs": [],
   "source": [
    "# Convert listed date, sold date and year built to datetime\n",
    "df.year_built = pd.to_datetime(df.year_built, format='%Y')\n",
    "df.sold_date = pd.to_datetime(df.year_built, format='%m/%d/%Y')\n",
    "df.listed_date = pd.to_datetime(df.listed_date, format='%m/%d/%Y')\n",
    "\n",
    "# Convert days on market columns to floats\n",
    "df['days_on_market'] = df['days_on_market'].str.replace(',', '') # Removes commas from any properties on the market for 1000+ days\n",
    "df['days_on_market'] = pd.to_numeric(df['days_on_market'])\n",
    "\n",
    "# Convert bed column to float\n",
    "df['bed'] = df.bed.astype(float)\n",
    "\n",
    "# Remove commas and dollar signs from sold price listed price and convert to float\n",
    "df['sold_price'] = df['sold_price'].str.replace('$', '')\n",
    "df['sold_price'] = df['sold_price'].str.replace(',', '')\n",
    "df['sold_price'] = pd.to_numeric(df['sold_price'])\n",
    "\n",
    "df['listed_price'] = df['listed_price'].str.replace('$', '')\n",
    "df['listed_price'] = df['listed_price'].str.replace(',', '')\n",
    "df['listed_price'] = pd.to_numeric(df['listed_price'])\n"
   ]
  },
  {
   "cell_type": "code",
   "execution_count": 14,
   "metadata": {},
   "outputs": [
    {
     "data": {
      "text/plain": [
       "address                   object\n",
       "neighborhood              object\n",
       "borough                   object\n",
       "bed                      float64\n",
       "bath                     float64\n",
       "property_type             object\n",
       "days_on_market           float64\n",
       "listed_date       datetime64[ns]\n",
       "listed_price             float64\n",
       "sold_price                 int64\n",
       "sold_date         datetime64[ns]\n",
       "zipcode                   object\n",
       "lat                      float64\n",
       "long                     float64\n",
       "year_built        datetime64[ns]\n",
       "dtype: object"
      ]
     },
     "execution_count": 14,
     "metadata": {},
     "output_type": "execute_result"
    }
   ],
   "source": [
    "df.dtypes"
   ]
  },
  {
   "cell_type": "code",
   "execution_count": 15,
   "metadata": {},
   "outputs": [],
   "source": [
    "# Update incorrect borough names\n",
    "#df['borough'].value_counts()\n",
    "\n",
    "df['borough'] = df['borough'].str.replace('the bronx', 'bronx')\n",
    "df['borough'] = df['borough'].str.replace('richmond', 'staten island')\n",
    "df['borough'] = df['borough'].str.replace('s. ozone park', 'queens')\n",
    "df['borough'] = df['borough'].str.replace('kew gardens', 'queens')"
   ]
  },
  {
   "cell_type": "code",
   "execution_count": 16,
   "metadata": {},
   "outputs": [
    {
     "data": {
      "text/plain": [
       "brooklyn            11026\n",
       "staten island        5655\n",
       "bronx                3895\n",
       "manhattan            1567\n",
       "out of area town       12\n",
       "queens                  3\n",
       "Name: borough, dtype: int64"
      ]
     },
     "execution_count": 16,
     "metadata": {},
     "output_type": "execute_result"
    }
   ],
   "source": [
    "df['borough'].value_counts()"
   ]
  },
  {
   "cell_type": "code",
   "execution_count": 18,
   "metadata": {},
   "outputs": [
    {
     "ename": "FileNotFoundError",
     "evalue": "[Errno 2] No such file or directory: 'Desktop/data_clean.csv'",
     "output_type": "error",
     "traceback": [
      "\u001b[0;31m---------------------------------------------------------------------------\u001b[0m",
      "\u001b[0;31mFileNotFoundError\u001b[0m                         Traceback (most recent call last)",
      "\u001b[0;32m<ipython-input-18-141220bd4784>\u001b[0m in \u001b[0;36m<module>\u001b[0;34m\u001b[0m\n\u001b[1;32m      1\u001b[0m \u001b[0;31m# Export Clean DataFrame to CSV\u001b[0m\u001b[0;34m\u001b[0m\u001b[0;34m\u001b[0m\u001b[0;34m\u001b[0m\u001b[0m\n\u001b[0;32m----> 2\u001b[0;31m \u001b[0mdf\u001b[0m\u001b[0;34m.\u001b[0m\u001b[0mto_csv\u001b[0m\u001b[0;34m(\u001b[0m\u001b[0;34m\"Desktop/data_clean.csv\"\u001b[0m\u001b[0;34m)\u001b[0m\u001b[0;34m\u001b[0m\u001b[0;34m\u001b[0m\u001b[0m\n\u001b[0m",
      "\u001b[0;32m~/opt/anaconda3/lib/python3.8/site-packages/pandas/core/generic.py\u001b[0m in \u001b[0;36mto_csv\u001b[0;34m(self, path_or_buf, sep, na_rep, float_format, columns, header, index, index_label, mode, encoding, compression, quoting, quotechar, line_terminator, chunksize, date_format, doublequote, escapechar, decimal, errors)\u001b[0m\n\u001b[1;32m   3168\u001b[0m             \u001b[0mdecimal\u001b[0m\u001b[0;34m=\u001b[0m\u001b[0mdecimal\u001b[0m\u001b[0;34m,\u001b[0m\u001b[0;34m\u001b[0m\u001b[0;34m\u001b[0m\u001b[0m\n\u001b[1;32m   3169\u001b[0m         )\n\u001b[0;32m-> 3170\u001b[0;31m         \u001b[0mformatter\u001b[0m\u001b[0;34m.\u001b[0m\u001b[0msave\u001b[0m\u001b[0;34m(\u001b[0m\u001b[0;34m)\u001b[0m\u001b[0;34m\u001b[0m\u001b[0;34m\u001b[0m\u001b[0m\n\u001b[0m\u001b[1;32m   3171\u001b[0m \u001b[0;34m\u001b[0m\u001b[0m\n\u001b[1;32m   3172\u001b[0m         \u001b[0;32mif\u001b[0m \u001b[0mpath_or_buf\u001b[0m \u001b[0;32mis\u001b[0m \u001b[0;32mNone\u001b[0m\u001b[0;34m:\u001b[0m\u001b[0;34m\u001b[0m\u001b[0;34m\u001b[0m\u001b[0m\n",
      "\u001b[0;32m~/opt/anaconda3/lib/python3.8/site-packages/pandas/io/formats/csvs.py\u001b[0m in \u001b[0;36msave\u001b[0;34m(self)\u001b[0m\n\u001b[1;32m    183\u001b[0m             \u001b[0mclose\u001b[0m \u001b[0;34m=\u001b[0m \u001b[0;32mFalse\u001b[0m\u001b[0;34m\u001b[0m\u001b[0;34m\u001b[0m\u001b[0m\n\u001b[1;32m    184\u001b[0m         \u001b[0;32melse\u001b[0m\u001b[0;34m:\u001b[0m\u001b[0;34m\u001b[0m\u001b[0;34m\u001b[0m\u001b[0m\n\u001b[0;32m--> 185\u001b[0;31m             f, handles = get_handle(\n\u001b[0m\u001b[1;32m    186\u001b[0m                 \u001b[0mself\u001b[0m\u001b[0;34m.\u001b[0m\u001b[0mpath_or_buf\u001b[0m\u001b[0;34m,\u001b[0m\u001b[0;34m\u001b[0m\u001b[0;34m\u001b[0m\u001b[0m\n\u001b[1;32m    187\u001b[0m                 \u001b[0mself\u001b[0m\u001b[0;34m.\u001b[0m\u001b[0mmode\u001b[0m\u001b[0;34m,\u001b[0m\u001b[0;34m\u001b[0m\u001b[0;34m\u001b[0m\u001b[0m\n",
      "\u001b[0;32m~/opt/anaconda3/lib/python3.8/site-packages/pandas/io/common.py\u001b[0m in \u001b[0;36mget_handle\u001b[0;34m(path_or_buf, mode, encoding, compression, memory_map, is_text, errors)\u001b[0m\n\u001b[1;32m    491\u001b[0m         \u001b[0;32mif\u001b[0m \u001b[0mencoding\u001b[0m\u001b[0;34m:\u001b[0m\u001b[0;34m\u001b[0m\u001b[0;34m\u001b[0m\u001b[0m\n\u001b[1;32m    492\u001b[0m             \u001b[0;31m# Encoding\u001b[0m\u001b[0;34m\u001b[0m\u001b[0;34m\u001b[0m\u001b[0;34m\u001b[0m\u001b[0m\n\u001b[0;32m--> 493\u001b[0;31m             \u001b[0mf\u001b[0m \u001b[0;34m=\u001b[0m \u001b[0mopen\u001b[0m\u001b[0;34m(\u001b[0m\u001b[0mpath_or_buf\u001b[0m\u001b[0;34m,\u001b[0m \u001b[0mmode\u001b[0m\u001b[0;34m,\u001b[0m \u001b[0mencoding\u001b[0m\u001b[0;34m=\u001b[0m\u001b[0mencoding\u001b[0m\u001b[0;34m,\u001b[0m \u001b[0merrors\u001b[0m\u001b[0;34m=\u001b[0m\u001b[0merrors\u001b[0m\u001b[0;34m,\u001b[0m \u001b[0mnewline\u001b[0m\u001b[0;34m=\u001b[0m\u001b[0;34m\"\"\u001b[0m\u001b[0;34m)\u001b[0m\u001b[0;34m\u001b[0m\u001b[0;34m\u001b[0m\u001b[0m\n\u001b[0m\u001b[1;32m    494\u001b[0m         \u001b[0;32melif\u001b[0m \u001b[0mis_text\u001b[0m\u001b[0;34m:\u001b[0m\u001b[0;34m\u001b[0m\u001b[0;34m\u001b[0m\u001b[0m\n\u001b[1;32m    495\u001b[0m             \u001b[0;31m# No explicit encoding\u001b[0m\u001b[0;34m\u001b[0m\u001b[0;34m\u001b[0m\u001b[0;34m\u001b[0m\u001b[0m\n",
      "\u001b[0;31mFileNotFoundError\u001b[0m: [Errno 2] No such file or directory: 'Desktop/data_clean.csv'"
     ]
    }
   ],
   "source": [
    "# Export Clean DataFrame to CSV\n",
    "df.to_csv(\"Desktop/data_clean.csv\")"
   ]
  },
  {
   "cell_type": "code",
   "execution_count": null,
   "metadata": {},
   "outputs": [],
   "source": []
  }
 ],
 "metadata": {
  "kernelspec": {
   "display_name": "Python 3",
   "language": "python",
   "name": "python3"
  },
  "language_info": {
   "codemirror_mode": {
    "name": "ipython",
    "version": 3
   },
   "file_extension": ".py",
   "mimetype": "text/x-python",
   "name": "python",
   "nbconvert_exporter": "python",
   "pygments_lexer": "ipython3",
   "version": "3.8.5"
  }
 },
 "nbformat": 4,
 "nbformat_minor": 4
}
